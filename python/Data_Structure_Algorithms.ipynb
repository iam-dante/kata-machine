{
 "cells": [
  {
   "cell_type": "markdown",
   "metadata": {},
   "source": [
    "## Data Structure and Algorithms\n"
   ]
  },
  {
   "cell_type": "markdown",
   "metadata": {},
   "source": [
    "## Linear Search $O(n)$"
   ]
  },
  {
   "cell_type": "code",
   "execution_count": 3,
   "metadata": {},
   "outputs": [
    {
     "name": "stdout",
     "output_type": "stream",
     "text": [
      "6\n"
     ]
    }
   ],
   "source": [
    "def linear_search(haystack:list, needle:int)-> int:\n",
    "    for i in range(len(haystack)):\n",
    "        if haystack[i] == needle:\n",
    "            return i + 1 # As index of the list starts at 0\n",
    "    return -1\n",
    "\n",
    "haystack = [4,3,1,5,6,11]\n",
    "needle= 11\n",
    "\n",
    "print(linear_search(haystack=haystack, needle=needle))"
   ]
  },
  {
   "cell_type": "markdown",
   "metadata": {},
   "source": [
    "# Bubble Sort $O(n^{2})$"
   ]
  },
  {
   "cell_type": "code",
   "execution_count": 19,
   "metadata": {},
   "outputs": [
    {
     "name": "stdout",
     "output_type": "stream",
     "text": [
      "[0, 1, 2, 3, 4, 5, 12, 33]\n"
     ]
    }
   ],
   "source": [
    "x = [2,1,4,5,0,12,3,33]\n",
    "\n",
    "# Did you know that a while loop is: 0(n)\n",
    "# So rotating the matrix in 0(m*n) where m, n = row, columns\n",
    "\n",
    "def bubble_sort(array: list):\n",
    "\n",
    "    for i in range(len(array)-1):\n",
    "        swapped = False\n",
    "        for j in range(len(array)-i-1):\n",
    "            if array[j] > array[j + 1]:\n",
    "                # array[j], array[j+1]  = array[j+1], array[j] # Its important to do it inline\n",
    "\n",
    "                # If you dont want to do inline \n",
    "                temp = array[j]\n",
    "                array[j]  = array[j+1]\n",
    "                array[j+1] = temp\n",
    "\n",
    "                swapped = True\n",
    "        if not swapped:\n",
    "            break\n",
    "\n",
    "    return array\n",
    "           \n",
    "print(bubble_sort(x))\n",
    "        "
   ]
  },
  {
   "cell_type": "code",
   "execution_count": null,
   "metadata": {},
   "outputs": [],
   "source": [
    "class Solution:\n",
    "    def mergeAlternately(self, word1: str, word2: str) -> str:\n",
    "        merged_ = \"\"\n",
    "        len_wd1 = len(word1)\n",
    "        len_wd2 = len(word2)\n",
    "\n",
    "        for i in range(min(len_wd1, len_wd2)):\n",
    "            merged_ += word1[i]\n",
    "            merged_ += word2[i]\n",
    "\n",
    "        if len_wd1 > len_wd2:\n",
    "            merged_ += word1[len_wd2:]\n",
    "        else:\n",
    "            merged_ += word2[len_wd1:]\n",
    "\n",
    "        return merged_"
   ]
  },
  {
   "cell_type": "code",
   "execution_count": null,
   "metadata": {},
   "outputs": [],
   "source": [
    "class Solution:\n",
    "    def gcdOfStrings(self, str1: str, str2: str) -> str:\n",
    "        \n",
    "        if str1+str2 != str2+str1:\n",
    "            return \"\"\n",
    "\n",
    "        divy = gcd(len(str1), len(str2))\n",
    "        return str1[:divy]"
   ]
  }
 ],
 "metadata": {
  "kernelspec": {
   "display_name": "base",
   "language": "python",
   "name": "python3"
  },
  "language_info": {
   "codemirror_mode": {
    "name": "ipython",
    "version": 3
   },
   "file_extension": ".py",
   "mimetype": "text/x-python",
   "name": "python",
   "nbconvert_exporter": "python",
   "pygments_lexer": "ipython3",
   "version": "3.12.4"
  }
 },
 "nbformat": 4,
 "nbformat_minor": 2
}
